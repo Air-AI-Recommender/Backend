{
 "cells": [
  {
   "cell_type": "code",
   "execution_count": 1,
   "id": "c8337854",
   "metadata": {
    "scrolled": true
   },
   "outputs": [],
   "source": [
    "import openai\n",
    "import json\n",
    "import requests\n",
    "import re\n",
    "\n",
    "# Authenticate with the OpenAI API\n",
    "secrets = json.load(open(\"OPENAI_KEY.json\"))\n",
    "openai.api_key = secrets[\"OPENAI_KEY\"]"
   ]
  },
  {
   "cell_type": "markdown",
   "id": "718ee9d3",
   "metadata": {},
   "source": [
    "# User picks shows/movies they like (no more than 5)"
   ]
  },
  {
   "cell_type": "code",
   "execution_count": 2,
   "id": "537a44cc",
   "metadata": {},
   "outputs": [],
   "source": [
    "lindsay_fav = ['90 day fiance', 'married at first sight', 'love island', 'the bachelor', 'bachelor in paradise']\n",
    "ian_fav = [\"The Matrix\", \"Breaking Bad\", \"Children of Men\", \"Parks and Recreation\", \"The Good Place\"]"
   ]
  },
  {
   "cell_type": "code",
   "execution_count": 230,
   "id": "f7de893f",
   "metadata": {},
   "outputs": [],
   "source": [
    "r = requests.post(\n",
    "    \"http://127.0.0.1:8000/reasons/\",\n",
    "    json = lindsay_fav\n",
    ")"
   ]
  },
  {
   "cell_type": "code",
   "execution_count": 231,
   "id": "29a10988",
   "metadata": {},
   "outputs": [
    {
     "data": {
      "text/plain": [
       "{'90 day fiance': ['It is an interesting show that follows couples in long-distance relationships as they navigate their potential marriage.',\n",
       "  'It offers viewers an insight into diverse cultures as the couples come from different countries.',\n",
       "  'It provides a comedic and dramatic look into the lives of the couples as they struggle to make the relationship work.',\n",
       "  'It examines the societal pressures that come with a relationship and how these can impact the couple.',\n",
       "  'It showcases the beauty of commitment and perseverance as the couples remain dedicated to one another.'],\n",
       " 'married at first sight': ['They are looking for an adventurous lifestyle and enjoy the experience of being spontaneous.',\n",
       "  'They prefer being in a committed relationship without the long and tedious courting process.',\n",
       "  'They enjoy being in a long-term relationship and value the importance of commitment.',\n",
       "  'They seek a partner that shares similar values and interests and find marriage an attractive way to achieve it.',\n",
       "  'They are looking for a more immediate and meaningful connection and find excitement in the prospect of taking a risk in marriage.'],\n",
       " 'love island': ['It allows viewers to keep up with their favorite couples and experience a realistic portrayal of relationships.',\n",
       "  'The show explores interesting themes such as feelings, romance and honesty in a dramatic and intriguing way.',\n",
       "  'Love Island is an entertaining show offering a comedic, lighthearted and relatable look at dating.',\n",
       "  'It is a great show for followers of reality TV and also those interested in relationships and the dynamics of love.',\n",
       "  'The show is interactive, with opportunities for viewers to vote and impact decisions made in the villa.'],\n",
       " 'the bachelor': ['They enjoy watching romantic relationships develop between the contestants.',\n",
       "  'They are intrigued by the drama and intrigue that is involved.',\n",
       "  'The show provides an escape from everyday life.',\n",
       "  'They enjoy the spectacle of the rose ceremonies.',\n",
       "  'They appreciate the candid insights into what it takes to find true love.'],\n",
       " 'bachelor in paradise': ['It is a fun and entertaining way to get away from the daily stresses of life.',\n",
       "  'The lush landscape and clear waters of paradise provide the perfect backdrop for a relaxing vacation.',\n",
       "  'It gives individuals a chance to find romance and love in a unique setting.',\n",
       "  'The Bachelor in Paradise setting allows for entertainment and adventure with people from all walks of life.',\n",
       "  'There is no pressure to settle down and one can focus more on having an amazing social experience.']}"
      ]
     },
     "execution_count": 231,
     "metadata": {},
     "output_type": "execute_result"
    }
   ],
   "source": [
    "r.json()"
   ]
  },
  {
   "cell_type": "code",
   "execution_count": 8,
   "id": "623f598d",
   "metadata": {},
   "outputs": [],
   "source": [
    "preferences_lindsay = [{\n",
    "    \"title\": \"90 Day Fiance\",\n",
    "    \"reason\": \"The drama is addictive and keeps viewers on the edge of their seat.\"\n",
    "  }, {\n",
    "    \"title\": \"Married at First Sight\",\n",
    "    \"reason\": \"The social experiment connects people who would have never met otherwise.\"\n",
    "  }, {\n",
    "    \"title\": \"Love Island\",\n",
    "    \"reason\": \"total trash reality show with relatable characters.\"\n",
    "  }, {\n",
    "    \"title\": \"The Bachelor\",\n",
    "    \"reason\": \"The show provides an escape from everyday life and the catty drama is funny.\"\n",
    "  }, {\n",
    "    \"title\": \"Bachelor in Paradise\",\n",
    "    \"reason\": \"The show provides an escape from everyday life and the catty drama is funny.\"\n",
    "  }\n",
    "]"
   ]
  },
  {
   "cell_type": "code",
   "execution_count": 3,
   "id": "7b595de2",
   "metadata": {},
   "outputs": [],
   "source": [
    "r = requests.post(\n",
    "    \"http://127.0.0.1:8000/reasons/\",\n",
    "    json = ian_fav\n",
    ")"
   ]
  },
  {
   "cell_type": "code",
   "execution_count": 4,
   "id": "23a3c564",
   "metadata": {},
   "outputs": [
    {
     "data": {
      "text/plain": [
       "{'The Matrix': ['The intense special effects that depicted the simulated reality of The Matrix that was filled with action and thrilling experiences.',\n",
       "  'The thought-provoking concept of a simulated reality blended with philosophical questions and purpose in life.',\n",
       "  'The time bending story that immersed the viewer and took them into a world filled with excitement, mystery and suspense.',\n",
       "  'The impactful and stellar performances by Keanu Reeves, Laurence Fishburne and other characters that helped bring the story to life.',\n",
       "  'The incredible multi-layered and mind-blowing plot line that captivated viewers from start to finish.'],\n",
       " 'Breaking Bad': ['It has a unique story that is filled with twists and turns.',\n",
       "  'The characters are complex and interesting.',\n",
       "  'The visual style of the show is captivating.',\n",
       "  'The pacing is great and always keeps viewers on their toes.',\n",
       "  'The show is highly sophisticated and subtly layered with stunningly complicated moral choices.'],\n",
       " 'Children of Men': ['The film offers an unflinching look at a dystopian future.',\n",
       "  'The performances by Clive Owen and Julianne Moore are exceptional.',\n",
       "  'The movie deals with a wide range of complex human emotions.',\n",
       "  'The innovative cinematography brings the suspenseful story to life.',\n",
       "  'The movie’s unique and thought-provoking plot keeps viewers engaged from beginning to end.'],\n",
       " 'Parks and Recreation': ['Parks and Recreation is an incredibly funny show, full of humor and endearing characters.',\n",
       "  'It offers a much needed message of hope, friendship and community-centered values.',\n",
       "  'It also presents a unique spin on the American workplace, highlighting the importance of kindness and hard work.',\n",
       "  'It portrays an optimistic view of the future and examines the value of collaboration and perseverance.',\n",
       "  'The series also explores many relatable human experiences and offers a refreshing array of unforgettable and lovable characters.'],\n",
       " 'The Good Place': ['The Good Place offers an imaginative look at the afterlife.',\n",
       "  'It offers an original, funny and witty take on morality.',\n",
       "  'Its multi-dimensional characters create an interesting story and explain various moral dilemmas.',\n",
       "  'Its narrative keeps the audience engaged in an ever-changing, relevant and thought-provoking show.',\n",
       "  'With meaningful messages and hilarious jokes, the show provides an upbeat and lighthearted approach to life after death.']}"
      ]
     },
     "execution_count": 4,
     "metadata": {},
     "output_type": "execute_result"
    }
   ],
   "source": [
    "r.json()"
   ]
  },
  {
   "cell_type": "code",
   "execution_count": 5,
   "id": "af2faaf1",
   "metadata": {},
   "outputs": [],
   "source": [
    "preferences_ian = [ {\n",
    "    \"title\": \"The Matrix\",\n",
    "    \"reason\": \"The thought-provoking concept of a simulated reality blended with philosophical questions and purpose in life.\"\n",
    "  }, {\n",
    "    \"title\": \"Breaking Bad\",\n",
    "    \"reason\": \"The show is highly sophisticated and subtly layered with stunningly complicated moral choices.\"\n",
    "  }, {\n",
    "    \"title\": \"Children of Men\",\n",
    "    \"reason\": \"The innovative cinematography brings the suspenseful story to life.\"\n",
    "  }, {\n",
    "    \"title\": \"Parks and Recreation\",\n",
    "    \"reason\": \"It offers a much needed message of hope, friendship and community-centered values.\"\n",
    "  }, {\n",
    "    \"title\": \"The Good Place\",\n",
    "    \"reason\": \"TIts multi-dimensional characters create an interesting story and explain various moral dilemmas.\"\n",
    "  }\n",
    "]"
   ]
  },
  {
   "cell_type": "markdown",
   "id": "d9ae34c1",
   "metadata": {},
   "source": [
    "# Select Genres (No more than 5)"
   ]
  },
  {
   "cell_type": "code",
   "execution_count": 24,
   "id": "0092e100",
   "metadata": {},
   "outputs": [],
   "source": [
    "genres_lindsay = ['Reality']\n",
    "genres_ian = ['Drama', 'Action', 'Science Fiction', 'Mystery', 'Thriller']"
   ]
  },
  {
   "cell_type": "markdown",
   "id": "1774bbe3",
   "metadata": {},
   "source": [
    "# Select Services (at least 3)"
   ]
  },
  {
   "cell_type": "code",
   "execution_count": 14,
   "id": "ac03ce8e",
   "metadata": {},
   "outputs": [],
   "source": [
    "services_lindsay = [\"netflix\", \"prime\", \"disney\", \"hbo\", \"hulu\", \"peacock\", \"apple\"]\n",
    "services_ian = [\"netflix\", \"prime\", \"disney\", \"hbo\", \"hulu\", \"peacock\", \"apple\"]"
   ]
  },
  {
   "cell_type": "markdown",
   "id": "25a6c421",
   "metadata": {},
   "source": [
    "# Get Recommendations"
   ]
  },
  {
   "cell_type": "code",
   "execution_count": 12,
   "id": "d8e7eb17",
   "metadata": {},
   "outputs": [],
   "source": [
    "def get_recommendations(content_type, preferences, services, genres, ignore):\n",
    "    r = requests.post(\n",
    "        f\"http://127.0.0.1:8000/recommendations/?content_type={content_type}\",\n",
    "        json = {\n",
    "          \"preferences\": preferences,\n",
    "          \"services\": services,\n",
    "          \"genres\": genres,\n",
    "          \"ignore\": ignore\n",
    "        }\n",
    "    )\n",
    "    return r.json()"
   ]
  },
  {
   "cell_type": "markdown",
   "id": "b92dcc60",
   "metadata": {},
   "source": [
    "## Lindsay"
   ]
  },
  {
   "cell_type": "markdown",
   "id": "18273ad1",
   "metadata": {},
   "source": [
    "### First Round of Recommendations"
   ]
  },
  {
   "cell_type": "code",
   "execution_count": 15,
   "id": "573ed1a7",
   "metadata": {},
   "outputs": [],
   "source": [
    "r_lindsay_1 = get_recommendations(\"series\", preferences_lindsay, services_lindsay, genres_lindsay, ['The Bachelorette'])"
   ]
  },
  {
   "cell_type": "code",
   "execution_count": 16,
   "id": "7473cf95",
   "metadata": {
    "scrolled": true
   },
   "outputs": [
    {
     "name": "stdout",
     "output_type": "stream",
     "text": [
      "America's Got Talent\n",
      "America's Got Talent is the perfect show for Reality TV fans looking for a competitive yet entertaining show. This show features an array of talented performers from all backgrounds competing for their own 15 minutes of fame and a cash prize. The show brings together singers, dancers, magicians, comedians and even more to put on a stunning show. The show has plenty of twists and turns, keeping viewers engaged throughout the entire duration. \n",
      "\n",
      "Keeping Up with the Kardashians\n",
      "Keeping Up with the Kardashians is a groundbreaking reality TV show that follows the lives of the Kardashian-Jenner family. This show is packed with drama and emotion as viewers take a look into the lives of the stars, with the show aiming to show all the sides of the family. The show follows their everyday lives, from the business they do to their personal drama and relationships. \n",
      "\n",
      "Married to Medicine\n",
      "Married to Medicine is a reality TV show that focuses on the lives of six ambitious and successful married women doctors in Atlanta. Known for their catty drama and constant feuds, this show puts a spotlight on their careers as well as their relationships with their significant others. With a focus on professional as well as personal success, this show appeals to all Reality TV fans who want an inside look at the drama-filled lives of these successful women. \n",
      "\n",
      "Below Deck\n",
      "Below Deck is a reality show that follows the lives of a crew of a luxury yacht as they sail around the Caribbean. This show is perfect for viewers who want the ultimate escapism and want to take a peek at the extravagant lifestyle that these crew members live. From comedic interactions to thrilling adventures, this show follows the ups and downs of being a yachting crew member. \n",
      "\n",
      "Shark Tank\n",
      "Shark Tank follows a group of self-made millionaire and billionaire investors as they assess various business ideas and products pitched by aspiring entrepreneurs. From fashion to food, the show gives viewers insight into the process of entrepreneurs pitching their ideas to investors. For viewers who are interested in getting a better understanding of the way businesses function, this show allows them to get an inside look into the field.\n",
      "\n",
      "Queer Eye\n",
      "Perfect for viewers who love to watch shows with heavier topics, Queer Eye follows the life-changing adventures of the Fab Five as they travel all over the US. The Fab Five are five talented, inspiring and charismatic men who are experts in fashion, design, food, grooming and culture. They travel to help people of all backgrounds break barriers and become better versions of themselves. This show has plenty of light-hearted moments and heartwarming stories, perfect for those looking for something uplifting and inspiring.\n",
      "\n",
      "RuPaul's Drag Race\n",
      "RuPaul's Drag Race is a reality TV show that celebrates drag culture. The show features an array of talented drag queens competing against each other for the coveted title of 'America's Next Drag Superstar'. It provides an entertaining look at the world of drag, while also being a source of acceptance and empowerment. For Reality TV fans who are looking for something different and unique, this is the show for them. \n",
      "\n",
      "MasterChef\n",
      "MasterChef is a reality cooking show that pits aspiring chefs against each other in a cooking competition. With top-notch judges and satisfying challenges, this show is perfect for viewers who want to see mouth-watering food creations and intense culinary battles. The show is packed with cooking tips and fascinates viewers with the wide variety of dishes and recipes that are created on this show. \n",
      "\n",
      "Survivor\n",
      "Survivor is an iconic and highly popular reality TV show that has been running for decades. The show follows a group of contestants as they battle it out for the grand prize in a series of exciting challenges. With endless drama and tension, this show is perfect for viewers who want to see competition at its finest. \n",
      "\n",
      "So You Think You Can Dance\n",
      "So You Think You Can Dance is a show suitable for Reality TV fans that have an interest in dancers and dance. This show provides viewers with insight into the lives of dancers as they showcase their incredible talent and compete for the title of American's Favorite Dancer. This show is perfect for fans of dance and is sure to bond viewers to the competitors.\n",
      "\n",
      "Tiny House Nation\n",
      "For viewers who love to watch shows about renovating, Tiny House Nation is the perfect show for them. This show follows the hosts as they visit and work with families as they help them build custom tiny houses all around the US. Aspiring renovators get to explore the intricacies of constructing a tiny house from scratch, allowing them to get inspired by the creative and clever builds.\n",
      "\n",
      "Dance Moms\n",
      "Fans of reality shows featuring young performers should check out Dance Moms. This show follows a group of young dancers and the overly pushy moms who are supporting them. With plenty of powerful performances and intense rivalry, this show is fun to watch as viewers root for the kids and their teams.\n",
      "\n",
      "Are You The One?\n",
      "Are You The One? is a reality show that sees 20 perfect matches competing to win the million dollar prize. With a unique and intriguing premise, this show follows the couples as they travel to different parts of the world and get to know each other better. Fans of reality shows with a unique twist will love this show and will certainly keep viewers guessing until the finale.\n",
      "\n",
      "The Masked Singer\n",
      "Fans of singing reality shows should give The Masked Singer a watch. This show features famous singers from all genres performing in intricate costumes and masks, keeping viewers guessing who the singer might be. This show is perfect for fans of live singing and creative costumes.\n",
      "\n",
      "Holey Moley\n",
      "Holey Moley is perfect for Reality TV fans who want to watch something light and fun. This show features contestants competing in a mini-golf competition for a chance to compete in the final tournament and win the ultimate prize. With outrageous obstacles, colorful costumes and a whole lot of energy, this show is an entertaining watch filled with fun and competition.\n",
      "\n",
      "Masterchef Junior\n",
      "MasterChef Junior is an exciting and family-friendly cooking show that showcases the cooking talents of young chefs aged between 8 to 13. It's perfect for viewers who want to watch something more family-friendly, warm-hearted and inspiring. With some of the most passionate and creative young chefs competing for the title, this show is sure to capture hearts and minds.\n",
      "\n"
     ]
    }
   ],
   "source": [
    "for rec in r_lindsay_1['recommendations']:\n",
    "    print(rec['title']) \n",
    "    print(rec['explanation'])\n",
    "    print()"
   ]
  },
  {
   "cell_type": "markdown",
   "id": "a6fe22f2",
   "metadata": {},
   "source": [
    "### Second Round of Recommendations"
   ]
  },
  {
   "cell_type": "code",
   "execution_count": 17,
   "id": "972e3941",
   "metadata": {},
   "outputs": [],
   "source": [
    "ignore = r_lindsay_1['ignored'] + [rec['title'] for rec in r_lindsay_1['recommendations']]\n",
    "r_lindsay_2 = get_recommendations(\"series\", preferences_lindsay, services_lindsay, genres_lindsay, ignore)"
   ]
  },
  {
   "cell_type": "code",
   "execution_count": 18,
   "id": "09beac9f",
   "metadata": {
    "scrolled": true
   },
   "outputs": [
    {
     "name": "stdout",
     "output_type": "stream",
     "text": [
      "The Circle\n",
      "The Circle is an innovative reality show that blurs the lines between virtual reality and real life as players compete in an online game of popularity and strategy. This show appeals to users who are interested in reality shows due to the creative and intriguing plot. Additionally, fans of the show are able to use their individual strategy while competing against other players, providing an immersive and exciting experience. \n",
      "\n",
      "Derry Girls\n",
      "Derry Girls is a comedy series that follows a group of misfit teenagers living in Northern Ireland during the Troubles in the early 1990s. This show appeals to users who are interested in reality shows due to its unique characters and comical plot. The show also provides a glimpse into a difficult time period in history and showcases how strong the characters are in the face of adversity. \n",
      "\n",
      "Dating Around\n",
      "Dating Around follows one single person as they go on five different blind dates. This show appeals to users who are interested in reality shows as they explore the complexities of dating and the idea of true love. The show displays a wide variation of personalities and helps viewers to relate to the awkward moments that dating can provide. \n",
      "\n",
      "Nailed It!\n",
      "Nailed It! is a competition show where professional bakers and home cooks compete to recreate some of the most intricate pastries. This show appeals to users who are interested in reality shows due to the creative and entertaining atmosphere. The show has a lighthearted atmosphere which allows viewers to laugh at the mistakes each contestant makes and appreciate the skills of the professionals. \n",
      "\n",
      "Love Is Blind\n",
      "Love Is Blind is an innovative take on dating shows where couples get to know each other in “pods” without seeing each other. This show appeals to users who are interested in reality shows as it allows viewers to witness love from afar and explore what happens when two people connect without the physical presence of another. \n",
      "\n",
      "Catch-22\n",
      "Catch-22 is a miniseries adapted from Joseph Heller’s famous book of the same name. This show appeals to users who are interested in reality shows due to its clever and witty plot. The show serves an a powerful narrative which showcases the life of members of the US Air Force during World War II. \n",
      "\n",
      "The Bachelorette\n",
      "The Bachelorette is a long-running reality dating series which follows a single woman as she searches for her perfect partner. This show appeals to users who are interested in reality shows due to its dramatic plot. The show adds a competitive element as the contestants compete to win the affections of the bachelorette and the viewer is able to follow along with each twist and turn in the drama. \n",
      "\n",
      "Love on the Spectrum\n",
      "Love on the Spectrum is a unique dating show which follows adults on the autism spectrum as they search for love. This show appeals to users who are interested in reality shows due to its heartfelt story. The show explores the difficulties that adults on the autism spectrum experience when dating and provides an insightful take on what it is like to be an adult on the autism spectrum. \n",
      "\n",
      "Too Hot to Handle\n",
      "Too Hot to Handle is a competition series that follows a group of singles at a luxury resort as they are challenged to find true love with the incentive of a large cash prize. This show appeals to users who are interested in reality shows due to its fun and light-hearted approach. The contestants are provided with fun activities and the opportunity to win a huge cash prize, providing an exciting and enticing show. \n",
      "\n",
      "Dating NoFilter\n",
      "Dating NoFilter follows a group of friends and their hilarious attempts at finding love while navigating the world of dating. This show appeals to users who are interested in reality shows due to its humorous take on a relatable topic. The show is comedic in nature and allows the viewer to both laugh along and find compassion for the characters as they search for their perfect match.\n",
      "\n",
      "The Big Flower Fight\n",
      "The Big Flower Fight is a competition using floral design techniques wherein teams of two contestants compete in elimination-style rounds. This show appeals to users who are interested in reality shows due to its creative and unique nature. The show offers a chance for viewers to watch innovative floral design as teams compete to create dazzling arrangements that surprise and delight the judges.\n",
      "\n"
     ]
    }
   ],
   "source": [
    "for rec in r_lindsay_2['recommendations']:\n",
    "    print(rec['title']) \n",
    "    print(rec['explanation'])\n",
    "    print()"
   ]
  },
  {
   "cell_type": "code",
   "execution_count": 20,
   "id": "4bf4f680",
   "metadata": {},
   "outputs": [
    {
     "data": {
      "text/plain": [
       "['Cake Boss',\n",
       " 'Make Me a Millionaire',\n",
       " 'Flirty Dancing',\n",
       " 'The Great Canadian Baking Show',\n",
       " 'Holey Moley UK vs USA',\n",
       " 'King of Mask Singer',\n",
       " 'Million Dollar Listing',\n",
       " 'Singles Villa',\n",
       " 'Little People, Big World',\n",
       " 'The Circle France',\n",
       " 'Ultimate Beastmaster',\n",
       " 'Instant Hotel',\n",
       " 'Big Family',\n",
       " 'Terrace House']"
      ]
     },
     "execution_count": 20,
     "metadata": {},
     "output_type": "execute_result"
    }
   ],
   "source": [
    "r_lindsay_2['ignored']"
   ]
  },
  {
   "cell_type": "markdown",
   "id": "e4656cf4",
   "metadata": {},
   "source": [
    "### Third Round of Recommendations"
   ]
  },
  {
   "cell_type": "code",
   "execution_count": 21,
   "id": "6f8b4747",
   "metadata": {},
   "outputs": [],
   "source": [
    "ignore = r_lindsay_2['ignored'] + [rec['title'] for rec in r_lindsay_2['recommendations']]\n",
    "r_lindsay_3 = get_recommendations(\"series\", preferences_lindsay, services_lindsay, genres_lindsay, ignore)"
   ]
  },
  {
   "cell_type": "code",
   "execution_count": 22,
   "id": "8903f627",
   "metadata": {
    "scrolled": true
   },
   "outputs": [
    {
     "name": "stdout",
     "output_type": "stream",
     "text": [
      "Selling Sunset\n",
      "This show combines more of the reality elements that the user is interested in with high-end real estate. It follows brokers and agents working in the ultra-exclusive world of Los Angeles real estate and gives viewers an inside look at how some of the biggest deals are made.\n",
      "\n",
      "RuPaul’s Drag Race\n",
      "This show is a competition show that celebrates creativity, self-expression, and allows viewers to have an in-depth look into the vibrant LGBTQ+ culture. The show has an incredibly positive atmosphere and is a great way to learn more about drag culture.\n",
      "\n",
      "Project Runway\n",
      "This show focuses on the high stakes and design aspects of fashion. It also marries elements of reality and competition that the user is likely to enjoy. It is interesting to watch as contestants create designs and attempt to compete with each other.\n",
      "\n",
      "Shark Tank\n",
      "This show is a business investment competition that brings entrepreneurs in front of a panel of well-known investors. It is entertaining to watch the investors engage with the businesses and the exchange of ideas.\n",
      "\n",
      "Queer Eye\n",
      "This show comes with a powerful message of acceptance and provides viewers with an intimate insight into the lives of different communities. The viewers are treated to inspiring makeovers and great advice that can be applied to all aspects of life.\n",
      "\n",
      "MasterChef\n",
      "This show focuses on cooking competitions and is a platform for aspiring chefs to showcase their skills. With a vibrant cast of characters, this show is sure to be entertaining to watch.\n",
      "\n",
      "The Amazing Race\n",
      "This is a great example of a reality show with a competitive twist. Each season, teams of two travel to multiple destinations around the world, in the hopes of being the first to the finish line.\n",
      "\n",
      "Hell’s Kitchen\n",
      "This show follows the mantra of “when the pressure is on” and combines reality with a competitive cooking challenge. It is fun to watch world-renowned chefs and aspiring cooks work together and create delicious dishes.\n",
      "\n",
      "Keeping Up With the Kardashians\n",
      "This show offers a behind-the-scenes look at the life of the Kardashian family, with all the drama and chaos that comes with it. It is an interesting way to get a comprehensive look at the famed family, who has had a major influence on pop culture.\n",
      "\n",
      "The Quest\n",
      "This show is all about an interactive fantasy and fans are given the chance to fight monsters and become a hero. It is an action-packed show that the user would be sure to enjoy.\n",
      "\n"
     ]
    }
   ],
   "source": [
    "for rec in r_lindsay_3['recommendations']:\n",
    "    print(rec['title']) \n",
    "    print(rec['explanation'])\n",
    "    print()"
   ]
  },
  {
   "cell_type": "markdown",
   "id": "1b777570",
   "metadata": {},
   "source": [
    "## Ian"
   ]
  },
  {
   "cell_type": "markdown",
   "id": "b26ed431",
   "metadata": {},
   "source": [
    "### First Round of Recommendations"
   ]
  },
  {
   "cell_type": "code",
   "execution_count": 25,
   "id": "c05c6977",
   "metadata": {},
   "outputs": [],
   "source": [
    "r_ian_1 = get_recommendations(\"all\", preferences_ian, services_ian, genres_ian, [])"
   ]
  },
  {
   "cell_type": "code",
   "execution_count": 26,
   "id": "862f186c",
   "metadata": {
    "scrolled": true
   },
   "outputs": [
    {
     "name": "stdout",
     "output_type": "stream",
     "text": [
      "Black Mirror\n",
      "The user would like Black Mirror as the show explores dystopic topics of the 21st century through a mix of dystopic science fiction and technology, while also providing an often philosophical and psychological commentary on modern society. \n",
      "\n",
      "Memento\n",
      "The user would be intrigued by Memento as it offers a unique plot, exploring psychological thriller elements, such as memory loss, as the story follows a man seeking revenge.\n",
      "\n",
      "Inception\n",
      "This film offers a highly imaginative plot and plot structure, centred around the themes of dream, reality and manipulation, making for a thrilling experience for the user.\n",
      "\n",
      "Us\n",
      "With the mix of horror, thriller and science fiction elements, Us will engage the user given their preferences for drama, action, science fiction and mystery.\n",
      "\n",
      "The Prestige\n",
      "The user could appreciate The Prestige for its intriguing plot, as the story follows two magicians who are rivals, shrouded in mystery and suspense as they attempt to outwit each other.\n",
      "\n",
      "The Truman Show\n",
      "The user would likely enjoy The Truman Show due to its deep themes and thought-provoking plot, which centres around the concept of an entire life being a television show and the individual's attempts to break free. \n",
      "\n",
      "Minority Report\n",
      "The user would appreciate Minority Report as the plot is set in the future and the film has science fiction elements, as well as suspenseful chase scenes and thought provoking psychological discussion.\n",
      "\n",
      "12 Monkeys\n",
      "12 Monkeys features a mix of science fiction, horror and mystery elements, as its story centres around a time traveler trying to alter the future. This would capture the user's interest.\n",
      "\n",
      "Sicario\n",
      "Sicario would be an exciting watch for the user, as it brings both a suspenseful side, as well as an exploration of moral dilemmas, pointing out the complexities of drug wars.\n",
      "\n",
      "Ex Machina\n",
      "Ex Machina blends the concepts of artificial intelligence and psychological themes, questioning the validity of human emotions. Hence, it would be an interesting watch for the user.\n",
      "\n",
      "The Lord of the Rings: The Fellowship of the Ring\n",
      "The Fellowship of the Ring: This classic fantasy tells the story of a quest to destroy a powerful ring and serves as a great mix between action, drama, adventure and tragedy. This would fit well with the user's preferences.\n",
      "\n",
      "The Shawshank Redemption\n",
      "The Shawshank Redemption tells a tale of hope and resilience, as it focuses on Andy Dufresne's struggle and eventual success in getting to justice. This story would be an inspiring watch for the user.\n",
      "\n",
      "The Assassination of Jesse James by the Coward Robert Ford\n",
      "This film creates a suspenseful atmosphere and explores the motivations of Robert Ford, as well as the morality of his actions. This would be an interesting watch for the user given their preferences for dramatic and thrilling genres.\n",
      "\n",
      "Watchmen\n",
      "Watchmen is an engaging story set in an alternate history involving a variety of characters, crossing over drama, action, science fiction, and thriller genres. This would be a great watch for the user.\n",
      "\n",
      "Westworld\n",
      "Westworld is a fantastic blend of action, science fiction and mystery, exploring themes of the coexistence of humans and robots. This would be an interesting and intriguing watch for the user.\n",
      "\n",
      "Fargo\n",
      "Fargo is an intense crime thriller, which is almost contained within one setting, leading to intense suspense and action as the story progress. This would be a captivating experience for the user.\n",
      "\n",
      "Reservoir Dogs\n",
      "This classic crime thriller offers an unexpected plot and contains elements of mystery, as well as a story of betrayal. This would capture the user's interest given their preferences for thrilling genres.\n",
      "\n"
     ]
    }
   ],
   "source": [
    "for rec in r_ian_1['recommendations']:\n",
    "    print(rec['title']) \n",
    "    print(rec['explanation'])\n",
    "    print()"
   ]
  },
  {
   "cell_type": "markdown",
   "id": "00775723",
   "metadata": {},
   "source": [
    "### Second Round"
   ]
  },
  {
   "cell_type": "code",
   "execution_count": 27,
   "id": "6df7b1d8",
   "metadata": {},
   "outputs": [],
   "source": [
    "ignore = r_ian_1['ignored'] + [rec['title'] for rec in r_ian_1['recommendations']]\n",
    "r_ian_2 = get_recommendations(\"all\", preferences_ian, services_ian, genres_ian, ignore)"
   ]
  },
  {
   "cell_type": "code",
   "execution_count": 28,
   "id": "3ba93f57",
   "metadata": {},
   "outputs": [
    {
     "name": "stdout",
     "output_type": "stream",
     "text": [
      "Jurassic Park\n",
      "With its thrilling action and suspenseful plot, Jurassic Park is a great piece of science fiction entertainment. It follows the journey of an eccentric group of scientists and adventurers as they attempt to explore an island inhabited by living, breathing dinosaurs. The use of cutting-edge technology allows viewers to be transported back in time, adding an extra layer of mystique that's sure to please any science fiction fan. Moreover, the tension between natural wonder and human greed creates a powerful moral dilemma, making the film a thought-provoking and entertaining experience. \n",
      "\n",
      "Gone Girl\n",
      "Gone Girl is a thrilling mystery with sharp twists and turns that will keep the user enthralled. It follows the intense pursuit of a missing woman as her husband is wrongfully blamed for her disappearance. The unsettling atmosphere of the film will be sure to hold the user's attention and keep them guessing as the confounding story progresses. Additionally, the themes of lack of trust, media manipulation, and the unpredictability of love will allow the user to further engage with the film and explore the morality of each character's actions. \n",
      "\n",
      "Hell or High Water\n",
      "Hell or High Water is an excellent crime drama full of dynamic characters and raw emotion. It follows two brothers as they embark on a daring mission to retrieve a large sum of money in order to save their family farm from foreclosure. The exhilarating narrative of the brothers' daring plan to outwit the law and the intense scenes of brotherly bonds put to the test will draw in fans of the Drama, Action, and Thriller genres. Furthermore, the film showcases a deep exploration of humanity's different motivations, allowing viewers to reason why the brothers ultimately make their decisions. \n",
      "\n",
      "Dunkirk\n",
      "Dunkirk is an inspiring war film that follows the harrowing evacuation of Allied soldiers during the Second World War. It features breathtaking cinematography and an intense and moving score that will draw any fan of Action and Thriller genres in. Additionally, Dunkirk offers an intense look at courage, hope, and the sacrifices of a generation as they attempt to survive against insurmountable odds. The immersive experience of the film allows viewers to truly appreciate the courage of the soldiers and contemplate the morality of war. \n",
      "\n",
      "Whiplash\n",
      "Whiplash is a highly intense Drama film about a passionate young drummer and his relentless instructor. Its intense scenes of harsh instruction and inspiring comebacks will draw in fans of Action and Mystery genres. The intricate morality of both the teacher and student, as well as their tumultuous relationship, will provide a thought-provoking and engaging experience for the viewer. Furthermore, the film offers an extraordinary narrative of a student learning to forgive and master himself and pain due of his own courage, dedication and drive. \n",
      "\n",
      "Spotlight\n",
      "Spotlight is an outstanding true-life story that investigates a series of cover-ups within the Catholic Church. The emotionally charged investigation will appeal to any fan of Mystery and Thriller genres. Furthermore, Spotlight features an exposé of the corruption that contributed to the scandal, as well as a look at the societal issues that enabled it, providing an eye-opening lesson of morality and justice. \n",
      "\n",
      "No Time To Die\n",
      "No Time To Die is the highly anticipated continuation of the James Bond franchise. It is a thrilling Action-Adventure film that follows Bond's pursuit of a dangerous criminal organization. It is sure to appeal to fans of both the Action and Science Fiction genres. The innovative gadgets and explosive action sequences will take viewers on a thrilling ride as they watch Bond navigate the morally ambiguous world of espionage and face danger head-on. \n",
      "\n",
      "Bird Box\n",
      "Bird Box is an intense and suspenseful post-apocalyptic film that follows a mother and her two young children on their dangerous journey. It is sure to draw any fan of Thriller and Mystery genres in. The innovative and unnerving threats that the characters face will create a captivating atmosphere of dread as the audience roots for their survival. Furthermore, the film explores unique ideas of faith and explores how people can come together in the face of danger.\n",
      "\n"
     ]
    }
   ],
   "source": [
    "for rec in r_ian_2['recommendations']:\n",
    "    print(rec['title']) \n",
    "    print(rec['explanation'])\n",
    "    print()"
   ]
  },
  {
   "cell_type": "markdown",
   "id": "d4cf1979",
   "metadata": {},
   "source": [
    "### Third Round"
   ]
  },
  {
   "cell_type": "code",
   "execution_count": 29,
   "id": "3c43fbd1",
   "metadata": {},
   "outputs": [],
   "source": [
    "ignore = r_ian_2['ignored'] + [rec['title'] for rec in r_ian_2['recommendations']]\n",
    "r_ian_3 = get_recommendations(\"all\", preferences_ian, services_ian, genres_ian, ignore)"
   ]
  },
  {
   "cell_type": "code",
   "execution_count": 30,
   "id": "8306a858",
   "metadata": {},
   "outputs": [
    {
     "name": "stdout",
     "output_type": "stream",
     "text": [
      "La La Land\n",
      "This romantic musical combines drama, comedy and fantasy in a way that stirs emotions of nostalgia and hope in its viewers. Its compelling story of two lovers striving to make their dreams come true is sure to captivate and appeal to all the user's preferred genres of drama, action, science fiction and mystery. \n",
      "\n",
      "Memento\n",
      "This psychological thriller follows a main character who has lost his short term memory, creating an enigmatic plot line full of mystery and intrigue. The story plays out gradually and is full of plot twists and surprises, perfect for the user's thrill seeking preferences. \n",
      "\n",
      "The Prestige\n",
      "This suspenseful drama focuses on two competing magicians, each determined to out-smart and out-perform the other. The juxtaposition of the magic tricks with the user's affinity for mystery and science fiction makes for an interesting and compelling story. \n",
      "\n",
      "The Cabin in the Woods\n",
      "This horror-comedy combines both genres the user enjoys, while also offering plenty of suspense and a creative story-line. It’s a cleverly written script that will keeps viewers guessing, making it perfect for the user's preferred genres of drama, action, science fiction and mystery. \n",
      "\n",
      "Ex Machina\n",
      "This sci-fi mystery explores the idea of artificial intelligence in an original and captivating way. Its thought-provoking idea that blurs the line between man and machine is sure to appeal to the user's interest in science fiction, thriller, and mystery. \n",
      "\n",
      "Inception\n",
      "This sci-fi action movie follows a team of thieves who must go into a person’s dream and steal information from their subconscious. With its suspenseful plot and action, this movie is sure to appeal to the user's preferences for drama, action, and science fiction. \n",
      "\n",
      "The Witch\n",
      "This horror movie is a unique take on the genre that blends elements of religion and witchcraft with suspenseful visuals. With its psychological buildup and mysterious atmosphere, this movie is sure to satisfy the user's taste for horror and thriller. \n",
      "\n",
      "Minority Report\n",
      "This action-packed sci-fi movie follows a police officer as he tries to investigate a murder before it happens, and features a futuristic world full of twists and turns that are sure to draw in the user's preferred genres of science fiction, mystery and thriller. \n",
      "\n",
      "12 Monkeys\n",
      "This sci-fi thriller serves as an interesting take on time-travel and features a story line full of suspense and action. With its creative story line and unpredictable plot twists, this movie is sure to keep the user interested in its themes of science fiction, mystery and thriller. \n",
      "\n",
      "Ghostbusters\n",
      "This action-comedy features a thrilling plot line full of surprises and unexpected events. The light-hearted comedy mixed with the suspenseful story line is sure to keep the user engaged with its combination of action, drama, and science fiction. \n",
      "\n",
      "Donnie Darko\n",
      "This psychological thriller follows a sinister rabbit that leads the main character on an imaginative and unbelievable journey. It’s full of mystery and unexpected plot twists, making it perfect for the user's enjoyment of mystery and thriller. \n",
      "\n",
      "Blade Runner\n",
      "This cult classic science fiction movie follows a group of replicants trying to uncover the truth. Its dystopian world and thought-provoking themes are sure to please the user's penchant for drama, action, and sci-fi. \n",
      "\n",
      "Eternal Sunshine of the Spotless Mind\n",
      "This romantic-drama focuses on a couple who have had their memories removed as an attempt to escape the pain of their break-up. With its unique blend of drama,action, and science fiction, this movie is sure to captivate the user with its compelling characters and heart-wrenching story.\n",
      "\n"
     ]
    }
   ],
   "source": [
    "for rec in r_ian_3['recommendations']:\n",
    "    print(rec['title']) \n",
    "    print(rec['explanation'])\n",
    "    print()"
   ]
  },
  {
   "cell_type": "code",
   "execution_count": 31,
   "id": "edabe0d6",
   "metadata": {},
   "outputs": [
    {
     "data": {
      "text/plain": [
       "['The Man from Earth',\n",
       " 'A Quiet Place',\n",
       " 'Rushmore',\n",
       " 'The Lives of Others',\n",
       " 'The Social Network',\n",
       " 'Primer',\n",
       " 'Snowpiercer',\n",
       " 'Wall-E',\n",
       " 'It Follows',\n",
       " 'Se7en',\n",
       " 'The Avengers (2012)']"
      ]
     },
     "execution_count": 31,
     "metadata": {},
     "output_type": "execute_result"
    }
   ],
   "source": [
    "r_ian_3['ignored']"
   ]
  },
  {
   "cell_type": "code",
   "execution_count": null,
   "id": "a69f5f9f",
   "metadata": {},
   "outputs": [],
   "source": []
  }
 ],
 "metadata": {
  "kernelspec": {
   "display_name": "Python 3 (ipykernel)",
   "language": "python",
   "name": "python3"
  },
  "language_info": {
   "codemirror_mode": {
    "name": "ipython",
    "version": 3
   },
   "file_extension": ".py",
   "mimetype": "text/x-python",
   "name": "python",
   "nbconvert_exporter": "python",
   "pygments_lexer": "ipython3",
   "version": "3.9.12"
  }
 },
 "nbformat": 4,
 "nbformat_minor": 5
}
